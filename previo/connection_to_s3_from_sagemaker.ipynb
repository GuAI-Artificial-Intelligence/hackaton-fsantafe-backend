{
 "cells": [
  {
   "cell_type": "markdown",
   "metadata": {},
   "source": [
    "## Definitions\n"
   ]
  },
  {
   "cell_type": "markdown",
   "metadata": {},
   "source": [
    "**catalog:** refers to a Glue catalog previously created."
   ]
  },
  {
   "cell_type": "markdown",
   "metadata": {},
   "source": [
    "## Install required depenencies"
   ]
  },
  {
   "cell_type": "code",
   "execution_count": 23,
   "metadata": {},
   "outputs": [
    {
     "name": "stdout",
     "output_type": "stream",
     "text": [
      "Requirement already satisfied: awswrangler in /opt/conda/lib/python3.8/site-packages (2.16.1)\n",
      "Requirement already satisfied: pandas<2.0.0,>=1.2.0 in /opt/conda/lib/python3.8/site-packages (from awswrangler) (1.3.4)\n",
      "Requirement already satisfied: botocore<2.0.0,>=1.23.17 in /opt/conda/lib/python3.8/site-packages (from awswrangler) (1.26.2)\n",
      "Requirement already satisfied: boto3<2.0.0,>=1.20.17 in /opt/conda/lib/python3.8/site-packages (from awswrangler) (1.23.2)\n",
      "Requirement already satisfied: pymysql<2.0.0,>=1.0.0 in /opt/conda/lib/python3.8/site-packages (from awswrangler) (1.0.2)\n",
      "Requirement already satisfied: pg8000<2.0.0,>=1.20.0 in /opt/conda/lib/python3.8/site-packages (from awswrangler) (1.29.1)\n",
      "Requirement already satisfied: progressbar2<5.0.0,>=4.0.0 in /opt/conda/lib/python3.8/site-packages (from awswrangler) (4.0.0)\n",
      "Requirement already satisfied: gremlinpython<4.0.0,>=3.5.2 in /opt/conda/lib/python3.8/site-packages (from awswrangler) (3.6.0)\n",
      "Requirement already satisfied: opensearch-py<2.0.0,>=1.0.0 in /opt/conda/lib/python3.8/site-packages (from awswrangler) (1.1.0)\n",
      "Requirement already satisfied: openpyxl<3.1.0,>=3.0.0 in /opt/conda/lib/python3.8/site-packages (from awswrangler) (3.0.9)\n",
      "Requirement already satisfied: jsonpath-ng<2.0.0,>=1.5.3 in /opt/conda/lib/python3.8/site-packages (from awswrangler) (1.5.3)\n",
      "Requirement already satisfied: pyarrow<7.1.0,>=2.0.0 in /opt/conda/lib/python3.8/site-packages (from awswrangler) (7.0.0)\n",
      "Requirement already satisfied: requests-aws4auth<2.0.0,>=1.1.1 in /opt/conda/lib/python3.8/site-packages (from awswrangler) (1.1.2)\n",
      "Requirement already satisfied: numpy<2.0.0,>=1.21.0 in /opt/conda/lib/python3.8/site-packages (from awswrangler) (1.22.3)\n",
      "Requirement already satisfied: backoff<3.0.0,>=1.11.1 in /opt/conda/lib/python3.8/site-packages (from awswrangler) (2.1.2)\n",
      "Requirement already satisfied: redshift-connector<2.1.0,>=2.0.889 in /opt/conda/lib/python3.8/site-packages (from awswrangler) (2.0.908)\n",
      "Requirement already satisfied: s3transfer<0.6.0,>=0.5.0 in /opt/conda/lib/python3.8/site-packages (from boto3<2.0.0,>=1.20.17->awswrangler) (0.5.2)\n",
      "Requirement already satisfied: jmespath<2.0.0,>=0.7.1 in /opt/conda/lib/python3.8/site-packages (from boto3<2.0.0,>=1.20.17->awswrangler) (1.0.0)\n",
      "Requirement already satisfied: python-dateutil<3.0.0,>=2.1 in /opt/conda/lib/python3.8/site-packages (from botocore<2.0.0,>=1.23.17->awswrangler) (2.8.2)\n",
      "Requirement already satisfied: urllib3<1.27,>=1.25.4 in /opt/conda/lib/python3.8/site-packages (from botocore<2.0.0,>=1.23.17->awswrangler) (1.26.9)\n",
      "Requirement already satisfied: aiohttp<=3.8.1,>=3.8.0 in /opt/conda/lib/python3.8/site-packages (from gremlinpython<4.0.0,>=3.5.2->awswrangler) (3.8.1)\n",
      "Requirement already satisfied: aenum<4.0.0,>=1.4.5 in /opt/conda/lib/python3.8/site-packages (from gremlinpython<4.0.0,>=3.5.2->awswrangler) (3.1.11)\n",
      "Requirement already satisfied: isodate<1.0.0,>=0.6.0 in /opt/conda/lib/python3.8/site-packages (from gremlinpython<4.0.0,>=3.5.2->awswrangler) (0.6.1)\n",
      "Requirement already satisfied: nest-asyncio in /opt/conda/lib/python3.8/site-packages (from gremlinpython<4.0.0,>=3.5.2->awswrangler) (1.5.5)\n",
      "Requirement already satisfied: ply in /opt/conda/lib/python3.8/site-packages (from jsonpath-ng<2.0.0,>=1.5.3->awswrangler) (3.11)\n",
      "Requirement already satisfied: six in /opt/conda/lib/python3.8/site-packages (from jsonpath-ng<2.0.0,>=1.5.3->awswrangler) (1.16.0)\n",
      "Requirement already satisfied: decorator in /opt/conda/lib/python3.8/site-packages (from jsonpath-ng<2.0.0,>=1.5.3->awswrangler) (5.1.0)\n",
      "Requirement already satisfied: et-xmlfile in /opt/conda/lib/python3.8/site-packages (from openpyxl<3.1.0,>=3.0.0->awswrangler) (1.1.0)\n",
      "Requirement already satisfied: certifi in /opt/conda/lib/python3.8/site-packages (from opensearch-py<2.0.0,>=1.0.0->awswrangler) (2021.10.8)\n",
      "Requirement already satisfied: pytz>=2017.3 in /opt/conda/lib/python3.8/site-packages (from pandas<2.0.0,>=1.2.0->awswrangler) (2021.3)\n",
      "Requirement already satisfied: scramp>=1.4.1 in /opt/conda/lib/python3.8/site-packages (from pg8000<2.0.0,>=1.20.0->awswrangler) (1.4.1)\n",
      "Requirement already satisfied: python-utils>=3.0.0 in /opt/conda/lib/python3.8/site-packages (from progressbar2<5.0.0,>=4.0.0->awswrangler) (3.3.3)\n",
      "Requirement already satisfied: requests<2.28.1,>=2.23.0 in /opt/conda/lib/python3.8/site-packages (from redshift-connector<2.1.0,>=2.0.889->awswrangler) (2.27.1)\n",
      "Requirement already satisfied: packaging in /opt/conda/lib/python3.8/site-packages (from redshift-connector<2.1.0,>=2.0.889->awswrangler) (21.0)\n",
      "Requirement already satisfied: lxml>=4.6.5 in /opt/conda/lib/python3.8/site-packages (from redshift-connector<2.1.0,>=2.0.889->awswrangler) (4.8.0)\n",
      "Requirement already satisfied: beautifulsoup4<5.0.0,>=4.7.0 in /opt/conda/lib/python3.8/site-packages (from redshift-connector<2.1.0,>=2.0.889->awswrangler) (4.10.0)\n",
      "Requirement already satisfied: async-timeout<5.0,>=4.0.0a3 in /opt/conda/lib/python3.8/site-packages (from aiohttp<=3.8.1,>=3.8.0->gremlinpython<4.0.0,>=3.5.2->awswrangler) (4.0.2)\n",
      "Requirement already satisfied: aiosignal>=1.1.2 in /opt/conda/lib/python3.8/site-packages (from aiohttp<=3.8.1,>=3.8.0->gremlinpython<4.0.0,>=3.5.2->awswrangler) (1.2.0)\n",
      "Requirement already satisfied: attrs>=17.3.0 in /opt/conda/lib/python3.8/site-packages (from aiohttp<=3.8.1,>=3.8.0->gremlinpython<4.0.0,>=3.5.2->awswrangler) (20.3.0)\n",
      "Requirement already satisfied: yarl<2.0,>=1.0 in /opt/conda/lib/python3.8/site-packages (from aiohttp<=3.8.1,>=3.8.0->gremlinpython<4.0.0,>=3.5.2->awswrangler) (1.7.2)\n",
      "Requirement already satisfied: charset-normalizer<3.0,>=2.0 in /opt/conda/lib/python3.8/site-packages (from aiohttp<=3.8.1,>=3.8.0->gremlinpython<4.0.0,>=3.5.2->awswrangler) (2.0.4)\n",
      "Requirement already satisfied: multidict<7.0,>=4.5 in /opt/conda/lib/python3.8/site-packages (from aiohttp<=3.8.1,>=3.8.0->gremlinpython<4.0.0,>=3.5.2->awswrangler) (6.0.2)\n",
      "Requirement already satisfied: frozenlist>=1.1.1 in /opt/conda/lib/python3.8/site-packages (from aiohttp<=3.8.1,>=3.8.0->gremlinpython<4.0.0,>=3.5.2->awswrangler) (1.3.0)\n",
      "Requirement already satisfied: soupsieve>1.2 in /opt/conda/lib/python3.8/site-packages (from beautifulsoup4<5.0.0,>=4.7.0->redshift-connector<2.1.0,>=2.0.889->awswrangler) (2.2.1)\n",
      "Requirement already satisfied: idna<4,>=2.5 in /opt/conda/lib/python3.8/site-packages (from requests<2.28.1,>=2.23.0->redshift-connector<2.1.0,>=2.0.889->awswrangler) (3.2)\n",
      "Requirement already satisfied: asn1crypto>=1.4.0 in /opt/conda/lib/python3.8/site-packages (from scramp>=1.4.1->pg8000<2.0.0,>=1.20.0->awswrangler) (1.4.0)\n",
      "Requirement already satisfied: pyparsing>=2.0.2 in /opt/conda/lib/python3.8/site-packages (from packaging->redshift-connector<2.1.0,>=2.0.889->awswrangler) (3.0.4)\n",
      "\u001b[33mWARNING: Running pip as the 'root' user can result in broken permissions and conflicting behaviour with the system package manager. It is recommended to use a virtual environment instead: https://pip.pypa.io/warnings/venv\u001b[0m\u001b[33m\n",
      "\u001b[0m\u001b[33mWARNING: There was an error checking the latest version of pip.\u001b[0m\u001b[33m\n",
      "\u001b[0m"
     ]
    }
   ],
   "source": [
    "!pip install awswrangler"
   ]
  },
  {
   "cell_type": "markdown",
   "metadata": {},
   "source": [
    "## Packages"
   ]
  },
  {
   "cell_type": "code",
   "execution_count": 58,
   "metadata": {},
   "outputs": [],
   "source": [
    "import awswrangler as wr\n",
    "import pandas as pd\n",
    "import os"
   ]
  },
  {
   "cell_type": "markdown",
   "metadata": {},
   "source": [
    "## Define S3 bucket paths"
   ]
  },
  {
   "cell_type": "code",
   "execution_count": 140,
   "metadata": {},
   "outputs": [],
   "source": [
    "BUCKET_NAME = 'team4-guai-artificial-intelligence-685653615554'\n",
    "ROOT_BUCKET_PATH = f's3://{BUCKET_NAME}/'\n",
    "INTERMEDIATE_FOLDER_NAME = '02_intermediate'\n",
    "INTERMEDIATE_FOLDER_PATH = os.path.join(ROOT_BUCKET_PATH, INTERMEDIATE_FOLDER_NAME)\n",
    "MODELS_FOLDER_NAME = '06_models'\n",
    "MODELS_FOLDER_PATH = os.path.join(ROOT_BUCKET_PATH, MODELS_FOLDER_NAME)"
   ]
  },
  {
   "cell_type": "markdown",
   "metadata": {},
   "source": [
    "## List of available datasets"
   ]
  },
  {
   "cell_type": "code",
   "execution_count": 73,
   "metadata": {},
   "outputs": [
    {
     "data": {
      "text/html": [
       "<div>\n",
       "<style scoped>\n",
       "    .dataframe tbody tr th:only-of-type {\n",
       "        vertical-align: middle;\n",
       "    }\n",
       "\n",
       "    .dataframe tbody tr th {\n",
       "        vertical-align: top;\n",
       "    }\n",
       "\n",
       "    .dataframe thead th {\n",
       "        text-align: right;\n",
       "    }\n",
       "</style>\n",
       "<table border=\"1\" class=\"dataframe\">\n",
       "  <thead>\n",
       "    <tr style=\"text-align: right;\">\n",
       "      <th></th>\n",
       "      <th>Database</th>\n",
       "      <th>Description</th>\n",
       "    </tr>\n",
       "  </thead>\n",
       "  <tbody>\n",
       "    <tr>\n",
       "      <th>0</th>\n",
       "      <td>default</td>\n",
       "      <td></td>\n",
       "    </tr>\n",
       "    <tr>\n",
       "      <th>1</th>\n",
       "      <td>gdelt</td>\n",
       "      <td></td>\n",
       "    </tr>\n",
       "    <tr>\n",
       "      <th>2</th>\n",
       "      <td>guai-db</td>\n",
       "      <td></td>\n",
       "    </tr>\n",
       "    <tr>\n",
       "      <th>3</th>\n",
       "      <td>sdl-demo-data</td>\n",
       "      <td></td>\n",
       "    </tr>\n",
       "  </tbody>\n",
       "</table>\n",
       "</div>"
      ],
      "text/plain": [
       "        Database Description\n",
       "0        default            \n",
       "1          gdelt            \n",
       "2        guai-db            \n",
       "3  sdl-demo-data            "
      ]
     },
     "execution_count": 73,
     "metadata": {},
     "output_type": "execute_result"
    }
   ],
   "source": [
    "wr.catalog.databases()"
   ]
  },
  {
   "cell_type": "markdown",
   "metadata": {},
   "source": [
    "## List of available tables in a database"
   ]
  },
  {
   "cell_type": "code",
   "execution_count": 74,
   "metadata": {},
   "outputs": [
    {
     "data": {
      "text/html": [
       "<div>\n",
       "<style scoped>\n",
       "    .dataframe tbody tr th:only-of-type {\n",
       "        vertical-align: middle;\n",
       "    }\n",
       "\n",
       "    .dataframe tbody tr th {\n",
       "        vertical-align: top;\n",
       "    }\n",
       "\n",
       "    .dataframe thead th {\n",
       "        text-align: right;\n",
       "    }\n",
       "</style>\n",
       "<table border=\"1\" class=\"dataframe\">\n",
       "  <thead>\n",
       "    <tr style=\"text-align: right;\">\n",
       "      <th></th>\n",
       "      <th>Database</th>\n",
       "      <th>Table</th>\n",
       "      <th>Description</th>\n",
       "      <th>TableType</th>\n",
       "      <th>Columns</th>\n",
       "      <th>Partitions</th>\n",
       "    </tr>\n",
       "  </thead>\n",
       "  <tbody>\n",
       "    <tr>\n",
       "      <th>0</th>\n",
       "      <td>guai-db</td>\n",
       "      <td>demo_intermediate</td>\n",
       "      <td></td>\n",
       "      <td>EXTERNAL_TABLE</td>\n",
       "      <td>productname, department, product, imageurl, da...</td>\n",
       "      <td></td>\n",
       "    </tr>\n",
       "    <tr>\n",
       "      <th>1</th>\n",
       "      <td>guai-db</td>\n",
       "      <td>divipola</td>\n",
       "      <td></td>\n",
       "      <td>EXTERNAL_TABLE</td>\n",
       "      <td>codigodepartamento, codigomunicipio, nombredpt...</td>\n",
       "      <td></td>\n",
       "    </tr>\n",
       "    <tr>\n",
       "      <th>2</th>\n",
       "      <td>guai-db</td>\n",
       "      <td>suppliers</td>\n",
       "      <td></td>\n",
       "      <td>EXTERNAL_TABLE</td>\n",
       "      <td>entidad, nit_entidad, departamento_entidad, ci...</td>\n",
       "      <td></td>\n",
       "    </tr>\n",
       "  </tbody>\n",
       "</table>\n",
       "</div>"
      ],
      "text/plain": [
       "  Database              Table Description       TableType  \\\n",
       "0  guai-db  demo_intermediate              EXTERNAL_TABLE   \n",
       "1  guai-db           divipola              EXTERNAL_TABLE   \n",
       "2  guai-db          suppliers              EXTERNAL_TABLE   \n",
       "\n",
       "                                             Columns Partitions  \n",
       "0  productname, department, product, imageurl, da...             \n",
       "1  codigodepartamento, codigomunicipio, nombredpt...             \n",
       "2  entidad, nit_entidad, departamento_entidad, ci...             "
      ]
     },
     "execution_count": 74,
     "metadata": {},
     "output_type": "execute_result"
    }
   ],
   "source": [
    "wr.catalog.tables(database='guai-db')"
   ]
  },
  {
   "cell_type": "markdown",
   "metadata": {},
   "source": [
    "## Get location of table in S3 using catalog"
   ]
  },
  {
   "cell_type": "code",
   "execution_count": 75,
   "metadata": {},
   "outputs": [
    {
     "data": {
      "text/plain": [
       "'s3://team4-guai-artificial-intelligence-685653615554/01_raw/divipola/'"
      ]
     },
     "execution_count": 75,
     "metadata": {},
     "output_type": "execute_result"
    }
   ],
   "source": [
    "wr.catalog.get_table_location(database='guai-db', table='divipola')"
   ]
  },
  {
   "cell_type": "markdown",
   "metadata": {},
   "source": [
    "## Load table using catalog"
   ]
  },
  {
   "cell_type": "code",
   "execution_count": 130,
   "metadata": {},
   "outputs": [],
   "source": [
    "def read_table_to_pandas(database: str, table: str, format: str='parquet'):\n",
    "    \"\"\"\n",
    "    Read a existing table in catalog to a pandas dataframe.\n",
    "    It gets the table path using the catalog.\n",
    "    \n",
    "    Inputs:\n",
    "        database: string with the name of existing catalog database\n",
    "        table: string with the name of existing catalog table\n",
    "        format: str with format of table file located in s3 path\n",
    "    \"\"\"\n",
    "    \n",
    "    path = wr.catalog.get_table_location(database=database, table=table)\n",
    "    if format=='parquet':\n",
    "        return wr.s3.read_parquet(path=path)\n",
    "    elif format=='csv':\n",
    "        return wr.s3.read_csv(path=path)\n",
    "    \n",
    "    raise Exception(\"El archivo que intenta cargar no está en formato parquet o csv\")\n"
   ]
  },
  {
   "cell_type": "code",
   "execution_count": 131,
   "metadata": {},
   "outputs": [
    {
     "data": {
      "text/html": [
       "<div>\n",
       "<style scoped>\n",
       "    .dataframe tbody tr th:only-of-type {\n",
       "        vertical-align: middle;\n",
       "    }\n",
       "\n",
       "    .dataframe tbody tr th {\n",
       "        vertical-align: top;\n",
       "    }\n",
       "\n",
       "    .dataframe thead th {\n",
       "        text-align: right;\n",
       "    }\n",
       "</style>\n",
       "<table border=\"1\" class=\"dataframe\">\n",
       "  <thead>\n",
       "    <tr style=\"text-align: right;\">\n",
       "      <th></th>\n",
       "      <th>Código Departamento</th>\n",
       "      <th>Código Municipio</th>\n",
       "      <th>nombre_dpto</th>\n",
       "      <th>nombre_mpio</th>\n",
       "      <th>tipo</th>\n",
       "      <th>cod_dpto</th>\n",
       "      <th>cod_mpio</th>\n",
       "    </tr>\n",
       "  </thead>\n",
       "  <tbody>\n",
       "    <tr>\n",
       "      <th>0</th>\n",
       "      <td>5</td>\n",
       "      <td>5001</td>\n",
       "      <td>ANTIOQUIA</td>\n",
       "      <td>MEDELLÍN</td>\n",
       "      <td>Municipio</td>\n",
       "      <td>05</td>\n",
       "      <td>05001</td>\n",
       "    </tr>\n",
       "    <tr>\n",
       "      <th>1</th>\n",
       "      <td>5</td>\n",
       "      <td>5002</td>\n",
       "      <td>ANTIOQUIA</td>\n",
       "      <td>ABEJORRAL</td>\n",
       "      <td>Municipio</td>\n",
       "      <td>05</td>\n",
       "      <td>05002</td>\n",
       "    </tr>\n",
       "    <tr>\n",
       "      <th>2</th>\n",
       "      <td>5</td>\n",
       "      <td>5004</td>\n",
       "      <td>ANTIOQUIA</td>\n",
       "      <td>ABRIAQUÍ</td>\n",
       "      <td>Municipio</td>\n",
       "      <td>05</td>\n",
       "      <td>05004</td>\n",
       "    </tr>\n",
       "    <tr>\n",
       "      <th>3</th>\n",
       "      <td>5</td>\n",
       "      <td>5021</td>\n",
       "      <td>ANTIOQUIA</td>\n",
       "      <td>ALEJANDRÍA</td>\n",
       "      <td>Municipio</td>\n",
       "      <td>05</td>\n",
       "      <td>05021</td>\n",
       "    </tr>\n",
       "    <tr>\n",
       "      <th>4</th>\n",
       "      <td>5</td>\n",
       "      <td>5030</td>\n",
       "      <td>ANTIOQUIA</td>\n",
       "      <td>AMAGÁ</td>\n",
       "      <td>Municipio</td>\n",
       "      <td>05</td>\n",
       "      <td>05030</td>\n",
       "    </tr>\n",
       "  </tbody>\n",
       "</table>\n",
       "</div>"
      ],
      "text/plain": [
       "   Código Departamento  Código Municipio nombre_dpto nombre_mpio       tipo  \\\n",
       "0                    5              5001   ANTIOQUIA    MEDELLÍN  Municipio   \n",
       "1                    5              5002   ANTIOQUIA   ABEJORRAL  Municipio   \n",
       "2                    5              5004   ANTIOQUIA    ABRIAQUÍ  Municipio   \n",
       "3                    5              5021   ANTIOQUIA  ALEJANDRÍA  Municipio   \n",
       "4                    5              5030   ANTIOQUIA       AMAGÁ  Municipio   \n",
       "\n",
       "  cod_dpto cod_mpio  \n",
       "0       05    05001  \n",
       "1       05    05002  \n",
       "2       05    05004  \n",
       "3       05    05021  \n",
       "4       05    05030  "
      ]
     },
     "execution_count": 131,
     "metadata": {},
     "output_type": "execute_result"
    }
   ],
   "source": [
    "divipola_raw = read_table_to_pandas(\"guai-db\", \"divipola\")\n",
    "divipola_raw.head()"
   ]
  },
  {
   "cell_type": "code",
   "execution_count": 132,
   "metadata": {},
   "outputs": [
    {
     "data": {
      "text/html": [
       "<div>\n",
       "<style scoped>\n",
       "    .dataframe tbody tr th:only-of-type {\n",
       "        vertical-align: middle;\n",
       "    }\n",
       "\n",
       "    .dataframe tbody tr th {\n",
       "        vertical-align: top;\n",
       "    }\n",
       "\n",
       "    .dataframe thead th {\n",
       "        text-align: right;\n",
       "    }\n",
       "</style>\n",
       "<table border=\"1\" class=\"dataframe\">\n",
       "  <thead>\n",
       "    <tr style=\"text-align: right;\">\n",
       "      <th></th>\n",
       "      <th>entidad</th>\n",
       "      <th>nit_entidad</th>\n",
       "      <th>departamento_entidad</th>\n",
       "      <th>ciudad_entidad</th>\n",
       "      <th>nombre_dpto</th>\n",
       "      <th>cod_dpto</th>\n",
       "    </tr>\n",
       "  </thead>\n",
       "  <tbody>\n",
       "    <tr>\n",
       "      <th>0</th>\n",
       "      <td>ACOPI Antioquia</td>\n",
       "      <td>8909007481</td>\n",
       "      <td>Antioquia</td>\n",
       "      <td>Medellín</td>\n",
       "      <td>ANTIOQUIA</td>\n",
       "      <td>05</td>\n",
       "    </tr>\n",
       "    <tr>\n",
       "      <th>1</th>\n",
       "      <td>ADMINISTRACIÓN TEMPORAL PARA EL SECTOR AGUA PO...</td>\n",
       "      <td>892115015</td>\n",
       "      <td>La Guajira</td>\n",
       "      <td>Riohacha</td>\n",
       "      <td>LA GUAJIRA</td>\n",
       "      <td>44</td>\n",
       "    </tr>\n",
       "    <tr>\n",
       "      <th>2</th>\n",
       "      <td>ADMINISTRADORA COLOMBIANA DE PENSIONES COLPENS...</td>\n",
       "      <td>900336004</td>\n",
       "      <td>No Definido</td>\n",
       "      <td>No Definido</td>\n",
       "      <td>NO DEFINIDO</td>\n",
       "      <td>NO DEFINIDO</td>\n",
       "    </tr>\n",
       "    <tr>\n",
       "      <th>3</th>\n",
       "      <td>ADMINISTRADORA DE LOS RECURSOS DEL SISTEMA GEN...</td>\n",
       "      <td>901037916</td>\n",
       "      <td>Distrito Capital de Bogotá</td>\n",
       "      <td>No Definido</td>\n",
       "      <td>BOGOTÁ. D.C.</td>\n",
       "      <td>11</td>\n",
       "    </tr>\n",
       "    <tr>\n",
       "      <th>4</th>\n",
       "      <td>AEROPUERTO INTERNACIONAL MATECAÑA</td>\n",
       "      <td>891480014</td>\n",
       "      <td>No Definido</td>\n",
       "      <td>No Definido</td>\n",
       "      <td>NO DEFINIDO</td>\n",
       "      <td>NO DEFINIDO</td>\n",
       "    </tr>\n",
       "  </tbody>\n",
       "</table>\n",
       "</div>"
      ],
      "text/plain": [
       "                                             entidad  nit_entidad  \\\n",
       "0                                    ACOPI Antioquia   8909007481   \n",
       "1  ADMINISTRACIÓN TEMPORAL PARA EL SECTOR AGUA PO...    892115015   \n",
       "2  ADMINISTRADORA COLOMBIANA DE PENSIONES COLPENS...    900336004   \n",
       "3  ADMINISTRADORA DE LOS RECURSOS DEL SISTEMA GEN...    901037916   \n",
       "4                  AEROPUERTO INTERNACIONAL MATECAÑA    891480014   \n",
       "\n",
       "         departamento_entidad ciudad_entidad   nombre_dpto     cod_dpto  \n",
       "0                   Antioquia       Medellín     ANTIOQUIA           05  \n",
       "1                  La Guajira       Riohacha    LA GUAJIRA           44  \n",
       "2                 No Definido    No Definido   NO DEFINIDO  NO DEFINIDO  \n",
       "3  Distrito Capital de Bogotá    No Definido  BOGOTÁ. D.C.           11  \n",
       "4                 No Definido    No Definido   NO DEFINIDO  NO DEFINIDO  "
      ]
     },
     "execution_count": 132,
     "metadata": {},
     "output_type": "execute_result"
    }
   ],
   "source": [
    "suppliers_raw = read_table_to_pandas(\"guai-db\", \"suppliers\")\n",
    "suppliers_raw.head()"
   ]
  },
  {
   "cell_type": "code",
   "execution_count": 133,
   "metadata": {},
   "outputs": [
    {
     "data": {
      "text/html": [
       "<div>\n",
       "<style scoped>\n",
       "    .dataframe tbody tr th:only-of-type {\n",
       "        vertical-align: middle;\n",
       "    }\n",
       "\n",
       "    .dataframe tbody tr th {\n",
       "        vertical-align: top;\n",
       "    }\n",
       "\n",
       "    .dataframe thead th {\n",
       "        text-align: right;\n",
       "    }\n",
       "</style>\n",
       "<table border=\"1\" class=\"dataframe\">\n",
       "  <thead>\n",
       "    <tr style=\"text-align: right;\">\n",
       "      <th></th>\n",
       "      <th>Database</th>\n",
       "      <th>Table</th>\n",
       "      <th>Description</th>\n",
       "      <th>TableType</th>\n",
       "      <th>Columns</th>\n",
       "      <th>Partitions</th>\n",
       "    </tr>\n",
       "  </thead>\n",
       "  <tbody>\n",
       "    <tr>\n",
       "      <th>0</th>\n",
       "      <td>sdl-demo-data</td>\n",
       "      <td>compressed-parquet</td>\n",
       "      <td></td>\n",
       "      <td>EXTERNAL_TABLE</td>\n",
       "      <td>productname, department, product, imageurl, da...</td>\n",
       "      <td></td>\n",
       "    </tr>\n",
       "    <tr>\n",
       "      <th>1</th>\n",
       "      <td>sdl-demo-data</td>\n",
       "      <td>raw</td>\n",
       "      <td></td>\n",
       "      <td>EXTERNAL_TABLE</td>\n",
       "      <td>productname, color, department, product, image...</td>\n",
       "      <td>partition_0, partition_1, partition_2, partiti...</td>\n",
       "    </tr>\n",
       "  </tbody>\n",
       "</table>\n",
       "</div>"
      ],
      "text/plain": [
       "        Database               Table Description       TableType  \\\n",
       "0  sdl-demo-data  compressed-parquet              EXTERNAL_TABLE   \n",
       "1  sdl-demo-data                 raw              EXTERNAL_TABLE   \n",
       "\n",
       "                                             Columns  \\\n",
       "0  productname, department, product, imageurl, da...   \n",
       "1  productname, color, department, product, image...   \n",
       "\n",
       "                                          Partitions  \n",
       "0                                                     \n",
       "1  partition_0, partition_1, partition_2, partiti...  "
      ]
     },
     "execution_count": 133,
     "metadata": {},
     "output_type": "execute_result"
    }
   ],
   "source": [
    "wr.catalog.tables(database='sdl-demo-data')"
   ]
  },
  {
   "cell_type": "code",
   "execution_count": 134,
   "metadata": {},
   "outputs": [],
   "source": [
    "demo = read_table_to_pandas(\"sdl-demo-data\", \"compressed-parquet\")"
   ]
  },
  {
   "cell_type": "code",
   "execution_count": 135,
   "metadata": {},
   "outputs": [
    {
     "data": {
      "text/html": [
       "<div>\n",
       "<style scoped>\n",
       "    .dataframe tbody tr th:only-of-type {\n",
       "        vertical-align: middle;\n",
       "    }\n",
       "\n",
       "    .dataframe tbody tr th {\n",
       "        vertical-align: top;\n",
       "    }\n",
       "\n",
       "    .dataframe thead th {\n",
       "        text-align: right;\n",
       "    }\n",
       "</style>\n",
       "<table border=\"1\" class=\"dataframe\">\n",
       "  <thead>\n",
       "    <tr style=\"text-align: right;\">\n",
       "      <th></th>\n",
       "      <th>productname</th>\n",
       "      <th>department</th>\n",
       "      <th>product</th>\n",
       "      <th>imageurl</th>\n",
       "      <th>date_start</th>\n",
       "      <th>date_until</th>\n",
       "      <th>price</th>\n",
       "      <th>campaign</th>\n",
       "      <th>year</th>\n",
       "      <th>month</th>\n",
       "      <th>day</th>\n",
       "      <th>hour</th>\n",
       "    </tr>\n",
       "  </thead>\n",
       "  <tbody>\n",
       "    <tr>\n",
       "      <th>0</th>\n",
       "      <td>Awesome Granite Keyboard</td>\n",
       "      <td>Computers</td>\n",
       "      <td>Chips</td>\n",
       "      <td>http://lorempixel.com/640/480</td>\n",
       "      <td>Sat Apr 27 2019 09:40:11 GMT-0400 (Eastern Day...</td>\n",
       "      <td>Mon Jul 15 2019 11:10:23 GMT-0400 (Eastern Day...</td>\n",
       "      <td>45</td>\n",
       "      <td>NONE</td>\n",
       "      <td>2019</td>\n",
       "      <td>06</td>\n",
       "      <td>18</td>\n",
       "      <td>21</td>\n",
       "    </tr>\n",
       "    <tr>\n",
       "      <th>1</th>\n",
       "      <td>Small Granite Chair</td>\n",
       "      <td>Industrial</td>\n",
       "      <td>Salad</td>\n",
       "      <td>http://lorempixel.com/640/480</td>\n",
       "      <td>Wed Mar 06 2019 04:54:52 GMT-0500 (Eastern Sta...</td>\n",
       "      <td>Mon Jul 08 2019 05:08:00 GMT-0400 (Eastern Day...</td>\n",
       "      <td>36</td>\n",
       "      <td>BlackFriday</td>\n",
       "      <td>2019</td>\n",
       "      <td>06</td>\n",
       "      <td>18</td>\n",
       "      <td>21</td>\n",
       "    </tr>\n",
       "    <tr>\n",
       "      <th>2</th>\n",
       "      <td>Intelligent Cotton Keyboard</td>\n",
       "      <td>Electronics</td>\n",
       "      <td>Keyboard</td>\n",
       "      <td>http://lorempixel.com/640/480</td>\n",
       "      <td>Wed Feb 13 2019 06:32:02 GMT-0500 (Eastern Sta...</td>\n",
       "      <td>Sat Sep 14 2019 18:12:08 GMT-0400 (Eastern Day...</td>\n",
       "      <td>150</td>\n",
       "      <td>BlackFriday</td>\n",
       "      <td>2019</td>\n",
       "      <td>06</td>\n",
       "      <td>18</td>\n",
       "      <td>21</td>\n",
       "    </tr>\n",
       "    <tr>\n",
       "      <th>3</th>\n",
       "      <td>Refined Soft Mouse</td>\n",
       "      <td>Outdoors</td>\n",
       "      <td>Computer</td>\n",
       "      <td>http://lorempixel.com/640/480</td>\n",
       "      <td>Tue Jun 11 2019 17:59:42 GMT-0400 (Eastern Day...</td>\n",
       "      <td>Fri Oct 18 2019 09:08:06 GMT-0400 (Eastern Day...</td>\n",
       "      <td>104</td>\n",
       "      <td>10Percent</td>\n",
       "      <td>2019</td>\n",
       "      <td>06</td>\n",
       "      <td>18</td>\n",
       "      <td>21</td>\n",
       "    </tr>\n",
       "    <tr>\n",
       "      <th>4</th>\n",
       "      <td>Practical Cotton Salad</td>\n",
       "      <td>Baby</td>\n",
       "      <td>Salad</td>\n",
       "      <td>http://lorempixel.com/640/480</td>\n",
       "      <td>Thu Jun 06 2019 02:03:09 GMT-0400 (Eastern Day...</td>\n",
       "      <td>Fri Dec 20 2019 01:12:51 GMT-0500 (Eastern Sta...</td>\n",
       "      <td>23</td>\n",
       "      <td>10Percent</td>\n",
       "      <td>2019</td>\n",
       "      <td>06</td>\n",
       "      <td>18</td>\n",
       "      <td>21</td>\n",
       "    </tr>\n",
       "  </tbody>\n",
       "</table>\n",
       "</div>"
      ],
      "text/plain": [
       "                   productname   department   product  \\\n",
       "0     Awesome Granite Keyboard    Computers     Chips   \n",
       "1          Small Granite Chair   Industrial     Salad   \n",
       "2  Intelligent Cotton Keyboard  Electronics  Keyboard   \n",
       "3           Refined Soft Mouse     Outdoors  Computer   \n",
       "4       Practical Cotton Salad         Baby     Salad   \n",
       "\n",
       "                        imageurl  \\\n",
       "0  http://lorempixel.com/640/480   \n",
       "1  http://lorempixel.com/640/480   \n",
       "2  http://lorempixel.com/640/480   \n",
       "3  http://lorempixel.com/640/480   \n",
       "4  http://lorempixel.com/640/480   \n",
       "\n",
       "                                          date_start  \\\n",
       "0  Sat Apr 27 2019 09:40:11 GMT-0400 (Eastern Day...   \n",
       "1  Wed Mar 06 2019 04:54:52 GMT-0500 (Eastern Sta...   \n",
       "2  Wed Feb 13 2019 06:32:02 GMT-0500 (Eastern Sta...   \n",
       "3  Tue Jun 11 2019 17:59:42 GMT-0400 (Eastern Day...   \n",
       "4  Thu Jun 06 2019 02:03:09 GMT-0400 (Eastern Day...   \n",
       "\n",
       "                                          date_until  price     campaign  \\\n",
       "0  Mon Jul 15 2019 11:10:23 GMT-0400 (Eastern Day...     45         NONE   \n",
       "1  Mon Jul 08 2019 05:08:00 GMT-0400 (Eastern Day...     36  BlackFriday   \n",
       "2  Sat Sep 14 2019 18:12:08 GMT-0400 (Eastern Day...    150  BlackFriday   \n",
       "3  Fri Oct 18 2019 09:08:06 GMT-0400 (Eastern Day...    104    10Percent   \n",
       "4  Fri Dec 20 2019 01:12:51 GMT-0500 (Eastern Sta...     23    10Percent   \n",
       "\n",
       "   year month day hour  \n",
       "0  2019    06  18   21  \n",
       "1  2019    06  18   21  \n",
       "2  2019    06  18   21  \n",
       "3  2019    06  18   21  \n",
       "4  2019    06  18   21  "
      ]
     },
     "execution_count": 135,
     "metadata": {},
     "output_type": "execute_result"
    }
   ],
   "source": [
    "demo.head()"
   ]
  },
  {
   "cell_type": "code",
   "execution_count": 137,
   "metadata": {},
   "outputs": [],
   "source": [
    "def save_dataframe_to_s3_parquet(dataframe: pd.DataFrame, path: str, database: str, table: str):\n",
    "    \"\"\"\n",
    "    Save a pandas dataframe to a parquet file in a s3 path. \n",
    "    If table in catalog already exists in the same path it is replaced\n",
    "     \n",
    "    Inputs:\n",
    "        dataframe: pandas dataframe to be saved\n",
    "        path: string containing s3 path\n",
    "        database: string with name of existing database in catalog\n",
    "        table: string with the existing o new name of a table to be created in catalog\n",
    "        \n",
    "    Returns: \n",
    "        None\n",
    "    \"\"\"\n",
    "    \n",
    "    wr.s3.to_parquet(\n",
    "        df=dataframe,\n",
    "        path=path,\n",
    "        compression='snappy',\n",
    "        database=database,\n",
    "        table=table,\n",
    "        dataset=True \n",
    "    )\n",
    "    \n",
    "save_dataframe_to_s3_parquet(dataframe=demo, path=INTERMEDIATE_FOLDER_PATH, database='guai-db', table='demo-intermediate')"
   ]
  },
  {
   "cell_type": "code",
   "execution_count": 83,
   "metadata": {},
   "outputs": [
    {
     "data": {
      "text/html": [
       "<div>\n",
       "<style scoped>\n",
       "    .dataframe tbody tr th:only-of-type {\n",
       "        vertical-align: middle;\n",
       "    }\n",
       "\n",
       "    .dataframe tbody tr th {\n",
       "        vertical-align: top;\n",
       "    }\n",
       "\n",
       "    .dataframe thead th {\n",
       "        text-align: right;\n",
       "    }\n",
       "</style>\n",
       "<table border=\"1\" class=\"dataframe\">\n",
       "  <thead>\n",
       "    <tr style=\"text-align: right;\">\n",
       "      <th></th>\n",
       "      <th>Database</th>\n",
       "      <th>Table</th>\n",
       "      <th>Description</th>\n",
       "      <th>TableType</th>\n",
       "      <th>Columns</th>\n",
       "      <th>Partitions</th>\n",
       "    </tr>\n",
       "  </thead>\n",
       "  <tbody>\n",
       "    <tr>\n",
       "      <th>0</th>\n",
       "      <td>guai-db</td>\n",
       "      <td>demo_intermediate</td>\n",
       "      <td></td>\n",
       "      <td>EXTERNAL_TABLE</td>\n",
       "      <td>productname, department, product, imageurl, da...</td>\n",
       "      <td></td>\n",
       "    </tr>\n",
       "    <tr>\n",
       "      <th>1</th>\n",
       "      <td>guai-db</td>\n",
       "      <td>divipola</td>\n",
       "      <td></td>\n",
       "      <td>EXTERNAL_TABLE</td>\n",
       "      <td>codigodepartamento, codigomunicipio, nombredpt...</td>\n",
       "      <td></td>\n",
       "    </tr>\n",
       "    <tr>\n",
       "      <th>2</th>\n",
       "      <td>guai-db</td>\n",
       "      <td>suppliers</td>\n",
       "      <td></td>\n",
       "      <td>EXTERNAL_TABLE</td>\n",
       "      <td>entidad, nit_entidad, departamento_entidad, ci...</td>\n",
       "      <td></td>\n",
       "    </tr>\n",
       "  </tbody>\n",
       "</table>\n",
       "</div>"
      ],
      "text/plain": [
       "  Database              Table Description       TableType  \\\n",
       "0  guai-db  demo_intermediate              EXTERNAL_TABLE   \n",
       "1  guai-db           divipola              EXTERNAL_TABLE   \n",
       "2  guai-db          suppliers              EXTERNAL_TABLE   \n",
       "\n",
       "                                             Columns Partitions  \n",
       "0  productname, department, product, imageurl, da...             \n",
       "1  codigodepartamento, codigomunicipio, nombredpt...             \n",
       "2  entidad, nit_entidad, departamento_entidad, ci...             "
      ]
     },
     "execution_count": 83,
     "metadata": {},
     "output_type": "execute_result"
    }
   ],
   "source": [
    "wr.catalog.tables(database='guai-db')"
   ]
  },
  {
   "cell_type": "markdown",
   "metadata": {},
   "source": [
    "## Serialize sklearn model"
   ]
  },
  {
   "cell_type": "code",
   "execution_count": 96,
   "metadata": {},
   "outputs": [],
   "source": [
    "from sklearn import svm\n",
    "from sklearn import datasets\n",
    "from joblib import dump, load\n",
    "import boto3"
   ]
  },
  {
   "cell_type": "markdown",
   "metadata": {},
   "source": [
    "### Train model (Example)"
   ]
  },
  {
   "cell_type": "code",
   "execution_count": 92,
   "metadata": {},
   "outputs": [
    {
     "data": {
      "text/plain": [
       "SVC()"
      ]
     },
     "execution_count": 92,
     "metadata": {},
     "output_type": "execute_result"
    }
   ],
   "source": [
    "clf = svm.SVC()\n",
    "X, y= datasets.load_iris(return_X_y=True)\n",
    "clf.fit(X, y)"
   ]
  },
  {
   "cell_type": "markdown",
   "metadata": {},
   "source": [
    "### Save Model to S3"
   ]
  },
  {
   "cell_type": "code",
   "execution_count": 138,
   "metadata": {},
   "outputs": [],
   "source": [
    "def save_sklearn_model_to_s3(model, model_name):\n",
    "    \"\"\"\n",
    "    Takes a pre-train sklean model and saves it into the \"models\" folder of the s3 bucket.\n",
    "    To do that it has to save to sagemaker local host the file, send it to s3, and delete it from sagemaker\n",
    "    \n",
    "    Inputs:\n",
    "        model: sklearn model to be saved\n",
    "        model_name: a user assign name for the model MUST END WITH \"\".joblib\" sufix\n",
    "    \n",
    "    Returns:\n",
    "        None\n",
    "    \n",
    "    \"\"\"\n",
    "    dump(model, model_name) \n",
    "    s3 = boto3.resource('s3')\n",
    "    s3.meta.client.upload_file(model_name, BUCKET_NAME, os.path.join(MODELS_FOLDER_NAME, model_name))\n",
    "    os.remove(model_name)\n",
    "    \n",
    "save_sklearn_model_to_s3(clf, 'filename.joblib')"
   ]
  },
  {
   "cell_type": "markdown",
   "metadata": {},
   "source": [
    "### Load Model from S3"
   ]
  },
  {
   "cell_type": "code",
   "execution_count": 142,
   "metadata": {},
   "outputs": [],
   "source": [
    "def download_sklearn_model_from_s3(model_name):\n",
    "    \"\"\"\n",
    "    -Loads a previously save sklearn model with format .joblib from s3 bucket.\n",
    "    To do that it has to save the downloaded model into sagemaker localhost and delete it\n",
    "    after the model has been put into an sklearn object.\n",
    "    \n",
    "    Inputs:\n",
    "        model_name: the name of the file containing the model and located in the models folder s3 bucket\n",
    "        \n",
    "    Returns:\n",
    "        model: the model as a sklearn object\n",
    "    \"\"\"\n",
    "    s3 = boto3.resource('s3')\n",
    "    s3.meta.client.download_file(BUCKET_NAME, os.path.join(MODELS_FOLDER_NAME, model_name), model_name)\n",
    "    model = load(model_name)\n",
    "    os.remove(model_name)\n",
    "    return model\n",
    "    \n",
    "model = download_sklearn_model_from_s3('filename.joblib')"
   ]
  },
  {
   "cell_type": "code",
   "execution_count": null,
   "metadata": {},
   "outputs": [],
   "source": []
  },
  {
   "cell_type": "code",
   "execution_count": null,
   "metadata": {},
   "outputs": [],
   "source": []
  }
 ],
 "metadata": {
  "instance_type": "ml.t3.medium",
  "kernelspec": {
   "display_name": "Python 3 (Data Science 2.0)",
   "language": "python",
   "name": "python3__SAGEMAKER_INTERNAL__arn:aws:sagemaker:us-east-1:081325390199:image/sagemaker-data-science-38"
  },
  "language_info": {
   "codemirror_mode": {
    "name": "ipython",
    "version": 3
   },
   "file_extension": ".py",
   "mimetype": "text/x-python",
   "name": "python",
   "nbconvert_exporter": "python",
   "pygments_lexer": "ipython3",
   "version": "3.8.13"
  }
 },
 "nbformat": 4,
 "nbformat_minor": 4
}
